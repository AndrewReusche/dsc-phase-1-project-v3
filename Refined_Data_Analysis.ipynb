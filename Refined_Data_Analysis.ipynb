{
 "cells": [
  {
   "cell_type": "code",
   "execution_count": 1,
   "id": "3f0d2604-3861-457b-bd72-665d67e6596b",
   "metadata": {},
   "outputs": [],
   "source": [
    "import numpy as np\n",
    "import pandas as pd \n",
    "import matplotlib.pyplot as plt\n",
    "%matplotlib inline "
   ]
  },
  {
   "cell_type": "code",
   "execution_count": 2,
   "id": "4edfaf0b-e80d-4a56-a437-bb76a9524d39",
   "metadata": {},
   "outputs": [],
   "source": [
    "#Next I will import the data stored on the .CSV file and save it to a dataframe \n",
    "\n",
    "Aviation_Data= pd.read_csv('data/Aviation_Data.csv', low_memory=False)\n"
   ]
  },
  {
   "cell_type": "code",
   "execution_count": 3,
   "id": "1440a6e8-f490-4d03-927a-9be54665fcc7",
   "metadata": {},
   "outputs": [
    {
     "name": "stdout",
     "output_type": "stream",
     "text": [
      "<class 'pandas.core.frame.DataFrame'>\n",
      "RangeIndex: 90348 entries, 0 to 90347\n",
      "Data columns (total 31 columns):\n",
      " #   Column                  Non-Null Count  Dtype  \n",
      "---  ------                  --------------  -----  \n",
      " 0   Event.Id                88889 non-null  object \n",
      " 1   Investigation.Type      90348 non-null  object \n",
      " 2   Accident.Number         88889 non-null  object \n",
      " 3   Event.Date              88889 non-null  object \n",
      " 4   Location                88837 non-null  object \n",
      " 5   Country                 88663 non-null  object \n",
      " 6   Latitude                34382 non-null  object \n",
      " 7   Longitude               34373 non-null  object \n",
      " 8   Airport.Code            50132 non-null  object \n",
      " 9   Airport.Name            52704 non-null  object \n",
      " 10  Injury.Severity         87889 non-null  object \n",
      " 11  Aircraft.damage         85695 non-null  object \n",
      " 12  Aircraft.Category       32287 non-null  object \n",
      " 13  Registration.Number     87507 non-null  object \n",
      " 14  Make                    88826 non-null  object \n",
      " 15  Model                   88797 non-null  object \n",
      " 16  Amateur.Built           88787 non-null  object \n",
      " 17  Number.of.Engines       82805 non-null  float64\n",
      " 18  Engine.Type             81793 non-null  object \n",
      " 19  FAR.Description         32023 non-null  object \n",
      " 20  Schedule                12582 non-null  object \n",
      " 21  Purpose.of.flight       82697 non-null  object \n",
      " 22  Air.carrier             16648 non-null  object \n",
      " 23  Total.Fatal.Injuries    77488 non-null  float64\n",
      " 24  Total.Serious.Injuries  76379 non-null  float64\n",
      " 25  Total.Minor.Injuries    76956 non-null  float64\n",
      " 26  Total.Uninjured         82977 non-null  float64\n",
      " 27  Weather.Condition       84397 non-null  object \n",
      " 28  Broad.phase.of.flight   61724 non-null  object \n",
      " 29  Report.Status           82505 non-null  object \n",
      " 30  Publication.Date        73659 non-null  object \n",
      "dtypes: float64(5), object(26)\n",
      "memory usage: 21.4+ MB\n"
     ]
    }
   ],
   "source": [
    "#Now I will start exploring the data\n",
    "\n",
    "Aviation_Data.info()"
   ]
  },
  {
   "cell_type": "code",
   "execution_count": 4,
   "id": "90174963-8f2b-4b57-9d0b-04d4fe6be577",
   "metadata": {},
   "outputs": [
    {
     "data": {
      "text/html": [
       "<div>\n",
       "<style scoped>\n",
       "    .dataframe tbody tr th:only-of-type {\n",
       "        vertical-align: middle;\n",
       "    }\n",
       "\n",
       "    .dataframe tbody tr th {\n",
       "        vertical-align: top;\n",
       "    }\n",
       "\n",
       "    .dataframe thead th {\n",
       "        text-align: right;\n",
       "    }\n",
       "</style>\n",
       "<table border=\"1\" class=\"dataframe\">\n",
       "  <thead>\n",
       "    <tr style=\"text-align: right;\">\n",
       "      <th></th>\n",
       "      <th>Event.Id</th>\n",
       "      <th>Investigation.Type</th>\n",
       "      <th>Accident.Number</th>\n",
       "      <th>Event.Date</th>\n",
       "      <th>Location</th>\n",
       "      <th>Country</th>\n",
       "      <th>Latitude</th>\n",
       "      <th>Longitude</th>\n",
       "      <th>Airport.Code</th>\n",
       "      <th>Airport.Name</th>\n",
       "      <th>...</th>\n",
       "      <th>Purpose.of.flight</th>\n",
       "      <th>Air.carrier</th>\n",
       "      <th>Total.Fatal.Injuries</th>\n",
       "      <th>Total.Serious.Injuries</th>\n",
       "      <th>Total.Minor.Injuries</th>\n",
       "      <th>Total.Uninjured</th>\n",
       "      <th>Weather.Condition</th>\n",
       "      <th>Broad.phase.of.flight</th>\n",
       "      <th>Report.Status</th>\n",
       "      <th>Publication.Date</th>\n",
       "    </tr>\n",
       "  </thead>\n",
       "  <tbody>\n",
       "    <tr>\n",
       "      <th>0</th>\n",
       "      <td>20001218X45444</td>\n",
       "      <td>Accident</td>\n",
       "      <td>SEA87LA080</td>\n",
       "      <td>1948-10-24</td>\n",
       "      <td>MOOSE CREEK, ID</td>\n",
       "      <td>United States</td>\n",
       "      <td>NaN</td>\n",
       "      <td>NaN</td>\n",
       "      <td>NaN</td>\n",
       "      <td>NaN</td>\n",
       "      <td>...</td>\n",
       "      <td>Personal</td>\n",
       "      <td>NaN</td>\n",
       "      <td>2.0</td>\n",
       "      <td>0.0</td>\n",
       "      <td>0.0</td>\n",
       "      <td>0.0</td>\n",
       "      <td>UNK</td>\n",
       "      <td>Cruise</td>\n",
       "      <td>Probable Cause</td>\n",
       "      <td>NaN</td>\n",
       "    </tr>\n",
       "    <tr>\n",
       "      <th>1</th>\n",
       "      <td>20001218X45447</td>\n",
       "      <td>Accident</td>\n",
       "      <td>LAX94LA336</td>\n",
       "      <td>1962-07-19</td>\n",
       "      <td>BRIDGEPORT, CA</td>\n",
       "      <td>United States</td>\n",
       "      <td>NaN</td>\n",
       "      <td>NaN</td>\n",
       "      <td>NaN</td>\n",
       "      <td>NaN</td>\n",
       "      <td>...</td>\n",
       "      <td>Personal</td>\n",
       "      <td>NaN</td>\n",
       "      <td>4.0</td>\n",
       "      <td>0.0</td>\n",
       "      <td>0.0</td>\n",
       "      <td>0.0</td>\n",
       "      <td>UNK</td>\n",
       "      <td>Unknown</td>\n",
       "      <td>Probable Cause</td>\n",
       "      <td>19-09-1996</td>\n",
       "    </tr>\n",
       "    <tr>\n",
       "      <th>2</th>\n",
       "      <td>20061025X01555</td>\n",
       "      <td>Accident</td>\n",
       "      <td>NYC07LA005</td>\n",
       "      <td>1974-08-30</td>\n",
       "      <td>Saltville, VA</td>\n",
       "      <td>United States</td>\n",
       "      <td>36.922223</td>\n",
       "      <td>-81.878056</td>\n",
       "      <td>NaN</td>\n",
       "      <td>NaN</td>\n",
       "      <td>...</td>\n",
       "      <td>Personal</td>\n",
       "      <td>NaN</td>\n",
       "      <td>3.0</td>\n",
       "      <td>NaN</td>\n",
       "      <td>NaN</td>\n",
       "      <td>NaN</td>\n",
       "      <td>IMC</td>\n",
       "      <td>Cruise</td>\n",
       "      <td>Probable Cause</td>\n",
       "      <td>26-02-2007</td>\n",
       "    </tr>\n",
       "    <tr>\n",
       "      <th>3</th>\n",
       "      <td>20001218X45448</td>\n",
       "      <td>Accident</td>\n",
       "      <td>LAX96LA321</td>\n",
       "      <td>1977-06-19</td>\n",
       "      <td>EUREKA, CA</td>\n",
       "      <td>United States</td>\n",
       "      <td>NaN</td>\n",
       "      <td>NaN</td>\n",
       "      <td>NaN</td>\n",
       "      <td>NaN</td>\n",
       "      <td>...</td>\n",
       "      <td>Personal</td>\n",
       "      <td>NaN</td>\n",
       "      <td>2.0</td>\n",
       "      <td>0.0</td>\n",
       "      <td>0.0</td>\n",
       "      <td>0.0</td>\n",
       "      <td>IMC</td>\n",
       "      <td>Cruise</td>\n",
       "      <td>Probable Cause</td>\n",
       "      <td>12-09-2000</td>\n",
       "    </tr>\n",
       "    <tr>\n",
       "      <th>4</th>\n",
       "      <td>20041105X01764</td>\n",
       "      <td>Accident</td>\n",
       "      <td>CHI79FA064</td>\n",
       "      <td>1979-08-02</td>\n",
       "      <td>Canton, OH</td>\n",
       "      <td>United States</td>\n",
       "      <td>NaN</td>\n",
       "      <td>NaN</td>\n",
       "      <td>NaN</td>\n",
       "      <td>NaN</td>\n",
       "      <td>...</td>\n",
       "      <td>Personal</td>\n",
       "      <td>NaN</td>\n",
       "      <td>1.0</td>\n",
       "      <td>2.0</td>\n",
       "      <td>NaN</td>\n",
       "      <td>0.0</td>\n",
       "      <td>VMC</td>\n",
       "      <td>Approach</td>\n",
       "      <td>Probable Cause</td>\n",
       "      <td>16-04-1980</td>\n",
       "    </tr>\n",
       "  </tbody>\n",
       "</table>\n",
       "<p>5 rows × 31 columns</p>\n",
       "</div>"
      ],
      "text/plain": [
       "         Event.Id Investigation.Type Accident.Number  Event.Date  \\\n",
       "0  20001218X45444           Accident      SEA87LA080  1948-10-24   \n",
       "1  20001218X45447           Accident      LAX94LA336  1962-07-19   \n",
       "2  20061025X01555           Accident      NYC07LA005  1974-08-30   \n",
       "3  20001218X45448           Accident      LAX96LA321  1977-06-19   \n",
       "4  20041105X01764           Accident      CHI79FA064  1979-08-02   \n",
       "\n",
       "          Location        Country   Latitude   Longitude Airport.Code  \\\n",
       "0  MOOSE CREEK, ID  United States        NaN         NaN          NaN   \n",
       "1   BRIDGEPORT, CA  United States        NaN         NaN          NaN   \n",
       "2    Saltville, VA  United States  36.922223  -81.878056          NaN   \n",
       "3       EUREKA, CA  United States        NaN         NaN          NaN   \n",
       "4       Canton, OH  United States        NaN         NaN          NaN   \n",
       "\n",
       "  Airport.Name  ... Purpose.of.flight Air.carrier Total.Fatal.Injuries  \\\n",
       "0          NaN  ...          Personal         NaN                  2.0   \n",
       "1          NaN  ...          Personal         NaN                  4.0   \n",
       "2          NaN  ...          Personal         NaN                  3.0   \n",
       "3          NaN  ...          Personal         NaN                  2.0   \n",
       "4          NaN  ...          Personal         NaN                  1.0   \n",
       "\n",
       "  Total.Serious.Injuries Total.Minor.Injuries Total.Uninjured  \\\n",
       "0                    0.0                  0.0             0.0   \n",
       "1                    0.0                  0.0             0.0   \n",
       "2                    NaN                  NaN             NaN   \n",
       "3                    0.0                  0.0             0.0   \n",
       "4                    2.0                  NaN             0.0   \n",
       "\n",
       "  Weather.Condition  Broad.phase.of.flight   Report.Status Publication.Date  \n",
       "0               UNK                 Cruise  Probable Cause              NaN  \n",
       "1               UNK                Unknown  Probable Cause       19-09-1996  \n",
       "2               IMC                 Cruise  Probable Cause       26-02-2007  \n",
       "3               IMC                 Cruise  Probable Cause       12-09-2000  \n",
       "4               VMC               Approach  Probable Cause       16-04-1980  \n",
       "\n",
       "[5 rows x 31 columns]"
      ]
     },
     "execution_count": 4,
     "metadata": {},
     "output_type": "execute_result"
    }
   ],
   "source": [
    "#taking a look at a sample of the data\n",
    "\n",
    "Aviation_Data.head()"
   ]
  },
  {
   "cell_type": "code",
   "execution_count": 5,
   "id": "2f3d0fba-757a-4d85-a795-77f5d49bdbeb",
   "metadata": {},
   "outputs": [
    {
     "data": {
      "text/plain": [
       "Total.Fatal.Injuries\n",
       "0.0      59675\n",
       "1.0       8883\n",
       "2.0       5173\n",
       "3.0       1589\n",
       "4.0       1103\n",
       "         ...  \n",
       "156.0        1\n",
       "68.0         1\n",
       "31.0         1\n",
       "115.0        1\n",
       "176.0        1\n",
       "Name: count, Length: 125, dtype: int64"
      ]
     },
     "execution_count": 5,
     "metadata": {},
     "output_type": "execute_result"
    }
   ],
   "source": [
    "Aviation_Data['Total.Fatal.Injuries'].value_counts()"
   ]
  },
  {
   "cell_type": "code",
   "execution_count": 6,
   "id": "bc86aef5-a2cd-44a6-b38c-c924997be558",
   "metadata": {},
   "outputs": [
    {
     "data": {
      "text/plain": [
       "Event.Id\n",
       "20001212X19172    3\n",
       "20001214X45071    3\n",
       "20220730105623    2\n",
       "20051213X01965    2\n",
       "20001212X16765    2\n",
       "                 ..\n",
       "20001211X14216    1\n",
       "20001211X14239    1\n",
       "20001211X14207    1\n",
       "20001211X14204    1\n",
       "20221230106513    1\n",
       "Name: count, Length: 87951, dtype: int64"
      ]
     },
     "execution_count": 6,
     "metadata": {},
     "output_type": "execute_result"
    }
   ],
   "source": [
    "#see if there are re-occuring event id's\n",
    "Aviation_Data['Event.Id'].value_counts()"
   ]
  },
  {
   "cell_type": "code",
   "execution_count": 7,
   "id": "75c2ec8e-1ab2-4f2d-86a5-30c96fa03b92",
   "metadata": {},
   "outputs": [
    {
     "data": {
      "text/plain": [
       "Number.of.Engines\n",
       "1.0    69582\n",
       "2.0    11079\n",
       "0.0     1226\n",
       "3.0      483\n",
       "4.0      431\n",
       "8.0        3\n",
       "6.0        1\n",
       "Name: count, dtype: int64"
      ]
     },
     "execution_count": 7,
     "metadata": {},
     "output_type": "execute_result"
    }
   ],
   "source": [
    "Aviation_Data['Number.of.Engines'].value_counts()"
   ]
  },
  {
   "cell_type": "code",
   "execution_count": 8,
   "id": "9126e159-d49f-4457-814d-d73ba532f471",
   "metadata": {},
   "outputs": [
    {
     "data": {
      "text/plain": [
       "Engine.Type\n",
       "Reciprocating      69530\n",
       "Turbo Shaft         3609\n",
       "Turbo Prop          3391\n",
       "Turbo Fan           2481\n",
       "Unknown             2051\n",
       "Turbo Jet            703\n",
       "Geared Turbofan       12\n",
       "Electric              10\n",
       "LR                     2\n",
       "NONE                   2\n",
       "Hybrid Rocket          1\n",
       "UNK                    1\n",
       "Name: count, dtype: int64"
      ]
     },
     "execution_count": 8,
     "metadata": {},
     "output_type": "execute_result"
    }
   ],
   "source": [
    "Aviation_Data['Engine.Type'].value_counts()"
   ]
  },
  {
   "cell_type": "code",
   "execution_count": 9,
   "id": "e0d507af-4c9d-41cb-ba32-a3448c288f19",
   "metadata": {},
   "outputs": [
    {
     "data": {
      "text/plain": [
       "Accident.Number\n",
       "CEN22LA149    2\n",
       "WPR23LA041    2\n",
       "WPR23LA045    2\n",
       "DCA22WA214    2\n",
       "DCA22WA089    2\n",
       "             ..\n",
       "LAX92FA065    1\n",
       "ANC92T#A12    1\n",
       "MIA92LA049    1\n",
       "NYC92LA048    1\n",
       "ERA23LA097    1\n",
       "Name: count, Length: 88863, dtype: int64"
      ]
     },
     "execution_count": 9,
     "metadata": {},
     "output_type": "execute_result"
    }
   ],
   "source": [
    "Aviation_Data['Accident.Number'].value_counts()"
   ]
  },
  {
   "cell_type": "code",
   "execution_count": 10,
   "id": "3bf85f61-cb2d-47f4-972f-042702b604e1",
   "metadata": {},
   "outputs": [
    {
     "data": {
      "text/plain": [
       "Injury.Severity\n",
       "Non-Fatal     67357\n",
       "Fatal(1)       6167\n",
       "Fatal          5262\n",
       "Fatal(2)       3711\n",
       "Incident       2219\n",
       "              ...  \n",
       "Fatal(270)        1\n",
       "Fatal(60)         1\n",
       "Fatal(43)         1\n",
       "Fatal(143)        1\n",
       "Fatal(230)        1\n",
       "Name: count, Length: 109, dtype: int64"
      ]
     },
     "execution_count": 10,
     "metadata": {},
     "output_type": "execute_result"
    }
   ],
   "source": [
    "Aviation_Data['Injury.Severity'].value_counts()"
   ]
  },
  {
   "cell_type": "code",
   "execution_count": 11,
   "id": "83a5c9a3-f9f4-4593-bee3-be8584e1bd1c",
   "metadata": {},
   "outputs": [
    {
     "data": {
      "text/plain": [
       "Aircraft.Category\n",
       "Airplane             27617\n",
       "Helicopter            3440\n",
       "Glider                 508\n",
       "Balloon                231\n",
       "Gyrocraft              173\n",
       "Weight-Shift           161\n",
       "Powered Parachute       91\n",
       "Ultralight              30\n",
       "Unknown                 14\n",
       "WSFT                     9\n",
       "Powered-Lift             5\n",
       "Blimp                    4\n",
       "UNK                      2\n",
       "Rocket                   1\n",
       "ULTR                     1\n",
       "Name: count, dtype: int64"
      ]
     },
     "execution_count": 11,
     "metadata": {},
     "output_type": "execute_result"
    }
   ],
   "source": [
    "Aviation_Data['Aircraft.Category'].value_counts()"
   ]
  },
  {
   "cell_type": "code",
   "execution_count": 12,
   "id": "e2601c11-09f1-42e7-9643-564fcb60fc34",
   "metadata": {},
   "outputs": [
    {
     "data": {
      "text/plain": [
       "Make\n",
       "Cessna             22227\n",
       "Piper              12029\n",
       "CESSNA              4922\n",
       "Beech               4330\n",
       "PIPER               2841\n",
       "                   ...  \n",
       "Leonard Walters        1\n",
       "Maule Air Inc.         1\n",
       "Motley Vans            1\n",
       "Perlick                1\n",
       "ROYSE RALPH L          1\n",
       "Name: count, Length: 8237, dtype: int64"
      ]
     },
     "execution_count": 12,
     "metadata": {},
     "output_type": "execute_result"
    }
   ],
   "source": [
    "Aviation_Data['Make'].value_counts()"
   ]
  },
  {
   "cell_type": "code",
   "execution_count": 13,
   "id": "ea8f7f80-41e4-4733-9a9b-9ac233238517",
   "metadata": {},
   "outputs": [
    {
     "data": {
      "text/plain": [
       "Model\n",
       "152              2367\n",
       "172              1756\n",
       "172N             1164\n",
       "PA-28-140         932\n",
       "150               829\n",
       "                 ... \n",
       "GC-1-A              1\n",
       "737-3S3             1\n",
       "MBB-BK117-B2        1\n",
       "GLASSAIR GL25       1\n",
       "M-8 EAGLE           1\n",
       "Name: count, Length: 12318, dtype: int64"
      ]
     },
     "execution_count": 13,
     "metadata": {},
     "output_type": "execute_result"
    }
   ],
   "source": [
    "Aviation_Data['Model'].value_counts()"
   ]
  },
  {
   "cell_type": "code",
   "execution_count": 14,
   "id": "b00a78d1-6c04-468b-9918-073f6f77ded0",
   "metadata": {},
   "outputs": [
    {
     "data": {
      "text/plain": [
       "Amateur.Built\n",
       "No     80312\n",
       "Yes     8475\n",
       "Name: count, dtype: int64"
      ]
     },
     "execution_count": 14,
     "metadata": {},
     "output_type": "execute_result"
    }
   ],
   "source": [
    "Aviation_Data['Amateur.Built'].value_counts()"
   ]
  },
  {
   "cell_type": "code",
   "execution_count": 15,
   "id": "dfdaa532-ff8c-40d9-8265-f145f77a825d",
   "metadata": {},
   "outputs": [
    {
     "data": {
      "text/plain": [
       "Total.Fatal.Injuries\n",
       "0.0      59675\n",
       "1.0       8883\n",
       "2.0       5173\n",
       "3.0       1589\n",
       "4.0       1103\n",
       "         ...  \n",
       "156.0        1\n",
       "68.0         1\n",
       "31.0         1\n",
       "115.0        1\n",
       "176.0        1\n",
       "Name: count, Length: 125, dtype: int64"
      ]
     },
     "execution_count": 15,
     "metadata": {},
     "output_type": "execute_result"
    }
   ],
   "source": [
    "Aviation_Data['Total.Fatal.Injuries'].value_counts()"
   ]
  },
  {
   "cell_type": "code",
   "execution_count": 16,
   "id": "1fa99953-7600-4af4-8d09-7da3aa10636d",
   "metadata": {},
   "outputs": [
    {
     "data": {
      "text/plain": [
       "Total.Serious.Injuries\n",
       "0.0      63289\n",
       "1.0       9125\n",
       "2.0       2815\n",
       "3.0        629\n",
       "4.0        258\n",
       "5.0         78\n",
       "6.0         41\n",
       "7.0         27\n",
       "9.0         16\n",
       "10.0        13\n",
       "8.0         13\n",
       "13.0         9\n",
       "11.0         6\n",
       "26.0         5\n",
       "14.0         5\n",
       "12.0         5\n",
       "20.0         3\n",
       "25.0         3\n",
       "28.0         3\n",
       "21.0         2\n",
       "59.0         2\n",
       "50.0         2\n",
       "17.0         2\n",
       "47.0         2\n",
       "137.0        1\n",
       "19.0         1\n",
       "161.0        1\n",
       "27.0         1\n",
       "35.0         1\n",
       "67.0         1\n",
       "33.0         1\n",
       "88.0         1\n",
       "125.0        1\n",
       "53.0         1\n",
       "34.0         1\n",
       "41.0         1\n",
       "18.0         1\n",
       "63.0         1\n",
       "55.0         1\n",
       "23.0         1\n",
       "43.0         1\n",
       "39.0         1\n",
       "45.0         1\n",
       "44.0         1\n",
       "16.0         1\n",
       "60.0         1\n",
       "106.0        1\n",
       "81.0         1\n",
       "15.0         1\n",
       "22.0         1\n",
       "Name: count, dtype: int64"
      ]
     },
     "execution_count": 16,
     "metadata": {},
     "output_type": "execute_result"
    }
   ],
   "source": [
    "Aviation_Data['Total.Serious.Injuries'].value_counts()"
   ]
  },
  {
   "cell_type": "code",
   "execution_count": 17,
   "id": "c21709ff-6d79-451d-8275-c742c719f374",
   "metadata": {},
   "outputs": [
    {
     "data": {
      "text/plain": [
       "Total.Minor.Injuries\n",
       "0.0      61454\n",
       "1.0      10320\n",
       "2.0       3576\n",
       "3.0        784\n",
       "4.0        372\n",
       "5.0        129\n",
       "6.0         67\n",
       "7.0         59\n",
       "9.0         22\n",
       "8.0         20\n",
       "13.0        14\n",
       "10.0        11\n",
       "12.0        11\n",
       "14.0        10\n",
       "11.0         9\n",
       "17.0         8\n",
       "19.0         6\n",
       "18.0         6\n",
       "24.0         5\n",
       "22.0         5\n",
       "25.0         4\n",
       "16.0         4\n",
       "15.0         4\n",
       "33.0         4\n",
       "20.0         3\n",
       "21.0         3\n",
       "26.0         3\n",
       "23.0         3\n",
       "32.0         3\n",
       "27.0         3\n",
       "50.0         2\n",
       "30.0         2\n",
       "36.0         2\n",
       "31.0         2\n",
       "28.0         2\n",
       "42.0         2\n",
       "38.0         2\n",
       "57.0         1\n",
       "65.0         1\n",
       "84.0         1\n",
       "43.0         1\n",
       "35.0         1\n",
       "380.0        1\n",
       "47.0         1\n",
       "68.0         1\n",
       "200.0        1\n",
       "71.0         1\n",
       "58.0         1\n",
       "171.0        1\n",
       "39.0         1\n",
       "96.0         1\n",
       "29.0         1\n",
       "69.0         1\n",
       "62.0         1\n",
       "45.0         1\n",
       "125.0        1\n",
       "40.0         1\n",
       "Name: count, dtype: int64"
      ]
     },
     "execution_count": 17,
     "metadata": {},
     "output_type": "execute_result"
    }
   ],
   "source": [
    "Aviation_Data['Total.Minor.Injuries'].value_counts()"
   ]
  },
  {
   "cell_type": "code",
   "execution_count": 18,
   "id": "c9f1eb48-3895-44a1-bd95-15cbdcebca73",
   "metadata": {},
   "outputs": [
    {
     "data": {
      "text/plain": [
       "Total.Uninjured\n",
       "0.0      29879\n",
       "1.0      25101\n",
       "2.0      15988\n",
       "3.0       4313\n",
       "4.0       2662\n",
       "         ...  \n",
       "558.0        1\n",
       "412.0        1\n",
       "338.0        1\n",
       "401.0        1\n",
       "455.0        1\n",
       "Name: count, Length: 379, dtype: int64"
      ]
     },
     "execution_count": 18,
     "metadata": {},
     "output_type": "execute_result"
    }
   ],
   "source": [
    "Aviation_Data['Total.Uninjured'].value_counts()"
   ]
  },
  {
   "cell_type": "code",
   "execution_count": 19,
   "id": "e6ace6d1-4762-405f-8612-6eb1969386f8",
   "metadata": {},
   "outputs": [],
   "source": [
    "##create a new dataframe from the columns that you want to keep "
   ]
  },
  {
   "cell_type": "code",
   "execution_count": 20,
   "id": "775a375f-3f87-4b13-81ac-622316b893bf",
   "metadata": {},
   "outputs": [],
   "source": [
    "#see what columns you have currently"
   ]
  },
  {
   "cell_type": "code",
   "execution_count": 21,
   "id": "e39bdf64-1bcd-445e-9ce2-6c91429b0d9a",
   "metadata": {},
   "outputs": [
    {
     "data": {
      "text/plain": [
       "Index(['Event.Id', 'Investigation.Type', 'Accident.Number', 'Event.Date',\n",
       "       'Location', 'Country', 'Latitude', 'Longitude', 'Airport.Code',\n",
       "       'Airport.Name', 'Injury.Severity', 'Aircraft.damage',\n",
       "       'Aircraft.Category', 'Registration.Number', 'Make', 'Model',\n",
       "       'Amateur.Built', 'Number.of.Engines', 'Engine.Type', 'FAR.Description',\n",
       "       'Schedule', 'Purpose.of.flight', 'Air.carrier', 'Total.Fatal.Injuries',\n",
       "       'Total.Serious.Injuries', 'Total.Minor.Injuries', 'Total.Uninjured',\n",
       "       'Weather.Condition', 'Broad.phase.of.flight', 'Report.Status',\n",
       "       'Publication.Date'],\n",
       "      dtype='object')"
      ]
     },
     "execution_count": 21,
     "metadata": {},
     "output_type": "execute_result"
    }
   ],
   "source": [
    "Aviation_Data.columns"
   ]
  },
  {
   "cell_type": "code",
   "execution_count": 22,
   "id": "a97c034f-c22a-4c78-80a1-25cecde476c8",
   "metadata": {},
   "outputs": [],
   "source": [
    "stripped_data=Aviation_Data[['Event.Id','Accident.Number','Aircraft.Category',\n",
    "                             'Amateur.Built',\n",
    "                             'Make','Model','Number.of.Engines','Engine.Type',\n",
    "                             'Purpose.of.flight', 'Total.Fatal.Injuries',\n",
    "                             'Total.Serious.Injuries', 'Total.Minor.Injuries',\n",
    "                                 'Total.Uninjured']].copy()"
   ]
  },
  {
   "cell_type": "code",
   "execution_count": 23,
   "id": "7c789a61-373b-489e-8468-3e5d54297d03",
   "metadata": {},
   "outputs": [
    {
     "data": {
      "text/html": [
       "<div>\n",
       "<style scoped>\n",
       "    .dataframe tbody tr th:only-of-type {\n",
       "        vertical-align: middle;\n",
       "    }\n",
       "\n",
       "    .dataframe tbody tr th {\n",
       "        vertical-align: top;\n",
       "    }\n",
       "\n",
       "    .dataframe thead th {\n",
       "        text-align: right;\n",
       "    }\n",
       "</style>\n",
       "<table border=\"1\" class=\"dataframe\">\n",
       "  <thead>\n",
       "    <tr style=\"text-align: right;\">\n",
       "      <th></th>\n",
       "      <th>Event.Id</th>\n",
       "      <th>Accident.Number</th>\n",
       "      <th>Aircraft.Category</th>\n",
       "      <th>Amateur.Built</th>\n",
       "      <th>Make</th>\n",
       "      <th>Model</th>\n",
       "      <th>Number.of.Engines</th>\n",
       "      <th>Engine.Type</th>\n",
       "      <th>Purpose.of.flight</th>\n",
       "      <th>Total.Fatal.Injuries</th>\n",
       "      <th>Total.Serious.Injuries</th>\n",
       "      <th>Total.Minor.Injuries</th>\n",
       "      <th>Total.Uninjured</th>\n",
       "    </tr>\n",
       "  </thead>\n",
       "  <tbody>\n",
       "    <tr>\n",
       "      <th>0</th>\n",
       "      <td>20001218X45444</td>\n",
       "      <td>SEA87LA080</td>\n",
       "      <td>NaN</td>\n",
       "      <td>No</td>\n",
       "      <td>Stinson</td>\n",
       "      <td>108-3</td>\n",
       "      <td>1.0</td>\n",
       "      <td>Reciprocating</td>\n",
       "      <td>Personal</td>\n",
       "      <td>2.0</td>\n",
       "      <td>0.0</td>\n",
       "      <td>0.0</td>\n",
       "      <td>0.0</td>\n",
       "    </tr>\n",
       "    <tr>\n",
       "      <th>1</th>\n",
       "      <td>20001218X45447</td>\n",
       "      <td>LAX94LA336</td>\n",
       "      <td>NaN</td>\n",
       "      <td>No</td>\n",
       "      <td>Piper</td>\n",
       "      <td>PA24-180</td>\n",
       "      <td>1.0</td>\n",
       "      <td>Reciprocating</td>\n",
       "      <td>Personal</td>\n",
       "      <td>4.0</td>\n",
       "      <td>0.0</td>\n",
       "      <td>0.0</td>\n",
       "      <td>0.0</td>\n",
       "    </tr>\n",
       "    <tr>\n",
       "      <th>2</th>\n",
       "      <td>20061025X01555</td>\n",
       "      <td>NYC07LA005</td>\n",
       "      <td>NaN</td>\n",
       "      <td>No</td>\n",
       "      <td>Cessna</td>\n",
       "      <td>172M</td>\n",
       "      <td>1.0</td>\n",
       "      <td>Reciprocating</td>\n",
       "      <td>Personal</td>\n",
       "      <td>3.0</td>\n",
       "      <td>NaN</td>\n",
       "      <td>NaN</td>\n",
       "      <td>NaN</td>\n",
       "    </tr>\n",
       "    <tr>\n",
       "      <th>3</th>\n",
       "      <td>20001218X45448</td>\n",
       "      <td>LAX96LA321</td>\n",
       "      <td>NaN</td>\n",
       "      <td>No</td>\n",
       "      <td>Rockwell</td>\n",
       "      <td>112</td>\n",
       "      <td>1.0</td>\n",
       "      <td>Reciprocating</td>\n",
       "      <td>Personal</td>\n",
       "      <td>2.0</td>\n",
       "      <td>0.0</td>\n",
       "      <td>0.0</td>\n",
       "      <td>0.0</td>\n",
       "    </tr>\n",
       "    <tr>\n",
       "      <th>4</th>\n",
       "      <td>20041105X01764</td>\n",
       "      <td>CHI79FA064</td>\n",
       "      <td>NaN</td>\n",
       "      <td>No</td>\n",
       "      <td>Cessna</td>\n",
       "      <td>501</td>\n",
       "      <td>NaN</td>\n",
       "      <td>NaN</td>\n",
       "      <td>Personal</td>\n",
       "      <td>1.0</td>\n",
       "      <td>2.0</td>\n",
       "      <td>NaN</td>\n",
       "      <td>0.0</td>\n",
       "    </tr>\n",
       "  </tbody>\n",
       "</table>\n",
       "</div>"
      ],
      "text/plain": [
       "         Event.Id Accident.Number Aircraft.Category Amateur.Built      Make  \\\n",
       "0  20001218X45444      SEA87LA080               NaN            No   Stinson   \n",
       "1  20001218X45447      LAX94LA336               NaN            No     Piper   \n",
       "2  20061025X01555      NYC07LA005               NaN            No    Cessna   \n",
       "3  20001218X45448      LAX96LA321               NaN            No  Rockwell   \n",
       "4  20041105X01764      CHI79FA064               NaN            No    Cessna   \n",
       "\n",
       "      Model  Number.of.Engines    Engine.Type Purpose.of.flight  \\\n",
       "0     108-3                1.0  Reciprocating          Personal   \n",
       "1  PA24-180                1.0  Reciprocating          Personal   \n",
       "2      172M                1.0  Reciprocating          Personal   \n",
       "3       112                1.0  Reciprocating          Personal   \n",
       "4       501                NaN            NaN          Personal   \n",
       "\n",
       "   Total.Fatal.Injuries  Total.Serious.Injuries  Total.Minor.Injuries  \\\n",
       "0                   2.0                     0.0                   0.0   \n",
       "1                   4.0                     0.0                   0.0   \n",
       "2                   3.0                     NaN                   NaN   \n",
       "3                   2.0                     0.0                   0.0   \n",
       "4                   1.0                     2.0                   NaN   \n",
       "\n",
       "   Total.Uninjured  \n",
       "0              0.0  \n",
       "1              0.0  \n",
       "2              NaN  \n",
       "3              0.0  \n",
       "4              0.0  "
      ]
     },
     "execution_count": 23,
     "metadata": {},
     "output_type": "execute_result"
    }
   ],
   "source": [
    "stripped_data.head()"
   ]
  },
  {
   "cell_type": "code",
   "execution_count": 24,
   "id": "7f6f6983-3334-4f7c-80e6-7e029177a758",
   "metadata": {},
   "outputs": [],
   "source": [
    "stripped_data['Make']= stripped_data['Make'].str.title()"
   ]
  },
  {
   "cell_type": "code",
   "execution_count": 25,
   "id": "a8b9bcbc-c525-4be7-ac39-46047c757699",
   "metadata": {},
   "outputs": [],
   "source": [
    "stripped_data['Model']= stripped_data['Model'].str.title()"
   ]
  },
  {
   "cell_type": "code",
   "execution_count": 28,
   "id": "b8ff2b51-83cf-4b52-8e7d-1e67f8907961",
   "metadata": {},
   "outputs": [
    {
     "name": "stdout",
     "output_type": "stream",
     "text": [
      "<class 'pandas.core.frame.DataFrame'>\n",
      "RangeIndex: 90348 entries, 0 to 90347\n",
      "Data columns (total 13 columns):\n",
      " #   Column                  Non-Null Count  Dtype  \n",
      "---  ------                  --------------  -----  \n",
      " 0   Event.Id                88889 non-null  object \n",
      " 1   Accident.Number         88889 non-null  object \n",
      " 2   Aircraft.Category       32287 non-null  object \n",
      " 3   Amateur.Built           88787 non-null  object \n",
      " 4   Make                    88826 non-null  object \n",
      " 5   Model                   88797 non-null  object \n",
      " 6   Number.of.Engines       82805 non-null  float64\n",
      " 7   Engine.Type             81793 non-null  object \n",
      " 8   Purpose.of.flight       82697 non-null  object \n",
      " 9   Total.Fatal.Injuries    77488 non-null  float64\n",
      " 10  Total.Serious.Injuries  76379 non-null  float64\n",
      " 11  Total.Minor.Injuries    76956 non-null  float64\n",
      " 12  Total.Uninjured         82977 non-null  float64\n",
      "dtypes: float64(5), object(8)\n",
      "memory usage: 9.0+ MB\n"
     ]
    }
   ],
   "source": [
    "stripped_data.info()"
   ]
  },
  {
   "cell_type": "code",
   "execution_count": 26,
   "id": "19353ef8-ebb7-4e46-9866-56cf07a6f67b",
   "metadata": {},
   "outputs": [],
   "source": [
    "aircraft_data= stripped_data[stripped_data['Aircraft.Category']== 'Airplane']"
   ]
  },
  {
   "cell_type": "code",
   "execution_count": 29,
   "id": "73c49a8a-2633-40c3-abac-9f7a5f1ab99d",
   "metadata": {},
   "outputs": [
    {
     "name": "stdout",
     "output_type": "stream",
     "text": [
      "<class 'pandas.core.frame.DataFrame'>\n",
      "Index: 27617 entries, 5 to 90345\n",
      "Data columns (total 13 columns):\n",
      " #   Column                  Non-Null Count  Dtype  \n",
      "---  ------                  --------------  -----  \n",
      " 0   Event.Id                27617 non-null  object \n",
      " 1   Accident.Number         27617 non-null  object \n",
      " 2   Aircraft.Category       27617 non-null  object \n",
      " 3   Amateur.Built           27600 non-null  object \n",
      " 4   Make                    27608 non-null  object \n",
      " 5   Model                   27586 non-null  object \n",
      " 6   Number.of.Engines       24863 non-null  float64\n",
      " 7   Engine.Type             23391 non-null  object \n",
      " 8   Purpose.of.flight       23878 non-null  object \n",
      " 9   Total.Fatal.Injuries    24452 non-null  float64\n",
      " 10  Total.Serious.Injuries  24393 non-null  float64\n",
      " 11  Total.Minor.Injuries    24739 non-null  float64\n",
      " 12  Total.Uninjured         26717 non-null  float64\n",
      "dtypes: float64(5), object(8)\n",
      "memory usage: 2.9+ MB\n"
     ]
    }
   ],
   "source": [
    "aircraft_data.info()"
   ]
  },
  {
   "cell_type": "code",
   "execution_count": 31,
   "id": "162a4dd5-bbef-4d7f-98ca-551583dc95ac",
   "metadata": {},
   "outputs": [],
   "source": [
    "#pro_aircraft_data refers to professional aircraft data, as in\n",
    "#aircrafts that are not amateur built\n",
    "\n",
    "pro_aircraft_data= aircraft_data[aircraft_data['Amateur.Built']== 'No']"
   ]
  },
  {
   "cell_type": "code",
   "execution_count": 33,
   "id": "9c479139-42d1-41db-ba1a-2f5bcf693c00",
   "metadata": {},
   "outputs": [
    {
     "name": "stdout",
     "output_type": "stream",
     "text": [
      "<class 'pandas.core.frame.DataFrame'>\n",
      "Index: 24417 entries, 5 to 90345\n",
      "Data columns (total 13 columns):\n",
      " #   Column                  Non-Null Count  Dtype  \n",
      "---  ------                  --------------  -----  \n",
      " 0   Event.Id                24417 non-null  object \n",
      " 1   Accident.Number         24417 non-null  object \n",
      " 2   Aircraft.Category       24417 non-null  object \n",
      " 3   Amateur.Built           24417 non-null  object \n",
      " 4   Make                    24414 non-null  object \n",
      " 5   Model                   24399 non-null  object \n",
      " 6   Number.of.Engines       21866 non-null  float64\n",
      " 7   Engine.Type             20461 non-null  object \n",
      " 8   Purpose.of.flight       20734 non-null  object \n",
      " 9   Total.Fatal.Injuries    21651 non-null  float64\n",
      " 10  Total.Serious.Injuries  21571 non-null  float64\n",
      " 11  Total.Minor.Injuries    21855 non-null  float64\n",
      " 12  Total.Uninjured         23699 non-null  float64\n",
      "dtypes: float64(5), object(8)\n",
      "memory usage: 2.6+ MB\n"
     ]
    }
   ],
   "source": [
    "pro_aircraft_data.info()"
   ]
  },
  {
   "cell_type": "code",
   "execution_count": 35,
   "id": "d8fcc60f-bb7c-46ee-96d8-36b95a24d59d",
   "metadata": {},
   "outputs": [
    {
     "data": {
      "text/plain": [
       "False    24415\n",
       "True         2\n",
       "Name: count, dtype: int64"
      ]
     },
     "execution_count": 35,
     "metadata": {},
     "output_type": "execute_result"
    }
   ],
   "source": [
    "pro_aircraft_data.duplicated().value_counts()"
   ]
  },
  {
   "cell_type": "code",
   "execution_count": 36,
   "id": "2b0b2c46-3896-4014-a474-e43bbd6500a4",
   "metadata": {},
   "outputs": [
    {
     "data": {
      "text/html": [
       "<div>\n",
       "<style scoped>\n",
       "    .dataframe tbody tr th:only-of-type {\n",
       "        vertical-align: middle;\n",
       "    }\n",
       "\n",
       "    .dataframe tbody tr th {\n",
       "        vertical-align: top;\n",
       "    }\n",
       "\n",
       "    .dataframe thead th {\n",
       "        text-align: right;\n",
       "    }\n",
       "</style>\n",
       "<table border=\"1\" class=\"dataframe\">\n",
       "  <thead>\n",
       "    <tr style=\"text-align: right;\">\n",
       "      <th></th>\n",
       "      <th>Event.Id</th>\n",
       "      <th>Accident.Number</th>\n",
       "      <th>Aircraft.Category</th>\n",
       "      <th>Amateur.Built</th>\n",
       "      <th>Make</th>\n",
       "      <th>Model</th>\n",
       "      <th>Number.of.Engines</th>\n",
       "      <th>Engine.Type</th>\n",
       "      <th>Purpose.of.flight</th>\n",
       "      <th>Total.Fatal.Injuries</th>\n",
       "      <th>Total.Serious.Injuries</th>\n",
       "      <th>Total.Minor.Injuries</th>\n",
       "      <th>Total.Uninjured</th>\n",
       "    </tr>\n",
       "  </thead>\n",
       "  <tbody>\n",
       "    <tr>\n",
       "      <th>89830</th>\n",
       "      <td>20220822105776</td>\n",
       "      <td>ERA22LA379</td>\n",
       "      <td>Airplane</td>\n",
       "      <td>No</td>\n",
       "      <td>Boeing</td>\n",
       "      <td>A75N1</td>\n",
       "      <td>1.0</td>\n",
       "      <td>NaN</td>\n",
       "      <td>Business</td>\n",
       "      <td>0.0</td>\n",
       "      <td>2.0</td>\n",
       "      <td>0.0</td>\n",
       "      <td>2.0</td>\n",
       "    </tr>\n",
       "    <tr>\n",
       "      <th>89982</th>\n",
       "      <td>20220921105978</td>\n",
       "      <td>DCA22WA204</td>\n",
       "      <td>Airplane</td>\n",
       "      <td>No</td>\n",
       "      <td>Boeing</td>\n",
       "      <td>787</td>\n",
       "      <td>NaN</td>\n",
       "      <td>NaN</td>\n",
       "      <td>NaN</td>\n",
       "      <td>0.0</td>\n",
       "      <td>0.0</td>\n",
       "      <td>0.0</td>\n",
       "      <td>0.0</td>\n",
       "    </tr>\n",
       "  </tbody>\n",
       "</table>\n",
       "</div>"
      ],
      "text/plain": [
       "             Event.Id Accident.Number Aircraft.Category Amateur.Built    Make  \\\n",
       "89830  20220822105776      ERA22LA379          Airplane            No  Boeing   \n",
       "89982  20220921105978      DCA22WA204          Airplane            No  Boeing   \n",
       "\n",
       "       Model  Number.of.Engines Engine.Type Purpose.of.flight  \\\n",
       "89830  A75N1                1.0         NaN          Business   \n",
       "89982    787                NaN         NaN               NaN   \n",
       "\n",
       "       Total.Fatal.Injuries  Total.Serious.Injuries  Total.Minor.Injuries  \\\n",
       "89830                   0.0                     2.0                   0.0   \n",
       "89982                   0.0                     0.0                   0.0   \n",
       "\n",
       "       Total.Uninjured  \n",
       "89830              2.0  \n",
       "89982              0.0  "
      ]
     },
     "execution_count": 36,
     "metadata": {},
     "output_type": "execute_result"
    }
   ],
   "source": [
    "pro_aircraft_data[pro_aircraft_data.duplicated()]"
   ]
  },
  {
   "cell_type": "code",
   "execution_count": 37,
   "id": "3086d8e3-7872-49b8-a5fb-42303ed6ad7d",
   "metadata": {},
   "outputs": [],
   "source": [
    "#there are 1,460 duplicate values in the dataframe.\n",
    "#if these were actual duplicated values instead of missing values (NAN)\n",
    "#this could cause a bias in any analysis we use. This data will not \n",
    "#have any positive contibution to any analysis we do so we will get rid\n",
    "#of the duplicates and store the cleaned data in a new Dataframe"
   ]
  },
  {
   "cell_type": "code",
   "execution_count": 38,
   "id": "e91507df-564d-406f-bbf5-02163d70d87f",
   "metadata": {},
   "outputs": [],
   "source": [
    "#strip the duplicate lines from the data, and store it in a new dataframe"
   ]
  },
  {
   "cell_type": "code",
   "execution_count": 39,
   "id": "d6f9cc12-d919-4085-961b-5bcf788a0b58",
   "metadata": {},
   "outputs": [],
   "source": [
    "pro_aircraft_data= pro_aircraft_data.drop_duplicates()"
   ]
  },
  {
   "cell_type": "code",
   "execution_count": 41,
   "id": "93a4c5f9-f7e1-44cb-9459-92bfd867bddf",
   "metadata": {},
   "outputs": [
    {
     "name": "stdout",
     "output_type": "stream",
     "text": [
      "<class 'pandas.core.frame.DataFrame'>\n",
      "Index: 24415 entries, 5 to 90345\n",
      "Data columns (total 13 columns):\n",
      " #   Column                  Non-Null Count  Dtype  \n",
      "---  ------                  --------------  -----  \n",
      " 0   Event.Id                24415 non-null  object \n",
      " 1   Accident.Number         24415 non-null  object \n",
      " 2   Aircraft.Category       24415 non-null  object \n",
      " 3   Amateur.Built           24415 non-null  object \n",
      " 4   Make                    24412 non-null  object \n",
      " 5   Model                   24397 non-null  object \n",
      " 6   Number.of.Engines       21865 non-null  float64\n",
      " 7   Engine.Type             20461 non-null  object \n",
      " 8   Purpose.of.flight       20733 non-null  object \n",
      " 9   Total.Fatal.Injuries    21649 non-null  float64\n",
      " 10  Total.Serious.Injuries  21569 non-null  float64\n",
      " 11  Total.Minor.Injuries    21853 non-null  float64\n",
      " 12  Total.Uninjured         23697 non-null  float64\n",
      "dtypes: float64(5), object(8)\n",
      "memory usage: 2.6+ MB\n"
     ]
    }
   ],
   "source": [
    "#confirm the duped data has been dropped\n",
    "pro_aircraft_data.info()"
   ]
  },
  {
   "cell_type": "code",
   "execution_count": null,
   "id": "eaeab02e-80cf-4e87-b1be-15ca47b11a6d",
   "metadata": {},
   "outputs": [],
   "source": []
  }
 ],
 "metadata": {
  "kernelspec": {
   "display_name": "Python 3 (ipykernel)",
   "language": "python",
   "name": "python3"
  },
  "language_info": {
   "codemirror_mode": {
    "name": "ipython",
    "version": 3
   },
   "file_extension": ".py",
   "mimetype": "text/x-python",
   "name": "python",
   "nbconvert_exporter": "python",
   "pygments_lexer": "ipython3",
   "version": "3.8.19"
  }
 },
 "nbformat": 4,
 "nbformat_minor": 5
}
