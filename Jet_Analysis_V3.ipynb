{
 "cells": [
  {
   "cell_type": "markdown",
   "id": "e5b11e53-0f51-45ec-ae9e-2e35d6c2a217",
   "metadata": {},
   "source": [
    "# Aviation Data Analysis "
   ]
  },
  {
   "cell_type": "markdown",
   "id": "d3a9f1d0-7a93-4b06-8d2b-508561e16d71",
   "metadata": {},
   "source": [
    "put a picture here"
   ]
  },
  {
   "cell_type": "markdown",
   "id": "ee2b8595-080d-4262-b71d-e318fa9f02f9",
   "metadata": {},
   "source": [
    "## Overview"
   ]
  },
  {
   "cell_type": "markdown",
   "id": "8aa3822a-7451-40fe-85e6-bdcaec4259b9",
   "metadata": {},
   "source": [
    "put some text here"
   ]
  },
  {
   "cell_type": "markdown",
   "id": "cc8fec33-6192-4546-9b64-37f12a8eab48",
   "metadata": {},
   "source": [
    "## Business Problem"
   ]
  },
  {
   "cell_type": "markdown",
   "id": "487d4f0e-15bd-4423-b24c-96135680be42",
   "metadata": {},
   "source": [
    "put a picture here"
   ]
  },
  {
   "cell_type": "markdown",
   "id": "ccd3771c-2987-45c6-9363-600a7952863c",
   "metadata": {},
   "source": [
    "put some text here"
   ]
  },
  {
   "cell_type": "markdown",
   "id": "bf162b7b-e94b-45bc-95ea-ed93ce7665ae",
   "metadata": {},
   "source": [
    "## Data Understanding"
   ]
  },
  {
   "cell_type": "markdown",
   "id": "c9eac29e-0315-4217-ae15-5b02605b84d4",
   "metadata": {},
   "source": [
    "put a picture here"
   ]
  },
  {
   "cell_type": "markdown",
   "id": "b0e8b2b7-5c75-40be-a5e1-b56f6b23644a",
   "metadata": {},
   "source": [
    "put some text here"
   ]
  },
  {
   "cell_type": "markdown",
   "id": "7f817ac1-8217-4276-9872-6f9522bd7a03",
   "metadata": {},
   "source": [
    "import libraries here "
   ]
  },
  {
   "cell_type": "markdown",
   "id": "69a765a6-df11-4634-b31b-22592aa74104",
   "metadata": {},
   "source": [
    "import data here"
   ]
  },
  {
   "cell_type": "markdown",
   "id": "34697094-e9c3-4056-9cc6-a0e63d92a268",
   "metadata": {},
   "source": [
    "## Aircraft Data"
   ]
  },
  {
   "cell_type": "markdown",
   "id": "0b0e4d83-77f8-4dad-89e1-ba623b8ea9ce",
   "metadata": {},
   "source": [
    "talk about the data here"
   ]
  },
  {
   "cell_type": "markdown",
   "id": "539984a6-94ce-4ed5-994b-12b52cce5487",
   "metadata": {},
   "source": [
    "show the data head and data info here"
   ]
  },
  {
   "cell_type": "markdown",
   "id": "88e47256-04ad-4e10-a71f-a7afb6e80824",
   "metadata": {},
   "source": [
    "## Data Preperation"
   ]
  },
  {
   "cell_type": "markdown",
   "id": "7669801a-3ba7-451d-8378-dafe2905dd15",
   "metadata": {},
   "source": [
    "### Data Cleaning"
   ]
  },
  {
   "cell_type": "markdown",
   "id": "b1ba0fe2-a2e3-41da-84ed-5a3639fb0536",
   "metadata": {},
   "source": [
    "talk about the data cleaning here"
   ]
  },
  {
   "cell_type": "markdown",
   "id": "457997e5-e1f4-40ea-a55b-4557f85bbfa2",
   "metadata": {},
   "source": [
    "clean the data here"
   ]
  },
  {
   "cell_type": "markdown",
   "id": "d3fa2946-f5b8-4da9-98b9-c57c1db0a717",
   "metadata": {},
   "source": [
    "## Feature Engineering"
   ]
  },
  {
   "cell_type": "markdown",
   "id": "8a1cc16d-4549-4724-869a-2847d4ee37f3",
   "metadata": {},
   "source": [
    "talk about the feature engineering"
   ]
  },
  {
   "cell_type": "markdown",
   "id": "b7d2b87a-c07a-43c1-966d-0e75fd30e138",
   "metadata": {},
   "source": [
    "do the feature engineering"
   ]
  },
  {
   "cell_type": "markdown",
   "id": "2dd8d037-85db-4303-a455-cc1695483461",
   "metadata": {},
   "source": [
    "save the cleaned dataset as a csv\n"
   ]
  },
  {
   "cell_type": "markdown",
   "id": "d67f23d4-5de2-4f44-9e14-31b2248a7ba6",
   "metadata": {},
   "source": [
    "## Analysis"
   ]
  },
  {
   "cell_type": "markdown",
   "id": "ba050244-540c-405c-b71d-9df63d31f6bf",
   "metadata": {},
   "source": [
    "import any libraries you may need to do the analysis"
   ]
  },
  {
   "cell_type": "markdown",
   "id": "b820146d-f6d4-4271-b6a6-fae8674cddc9",
   "metadata": {},
   "source": [
    "### Analysis 1"
   ]
  },
  {
   "cell_type": "markdown",
   "id": "dfed1218-2909-440a-8473-72041c6d5507",
   "metadata": {},
   "source": [
    "talk about the analysis "
   ]
  },
  {
   "cell_type": "markdown",
   "id": "72ac31b4-576c-491f-9876-387175f3154a",
   "metadata": {},
   "source": [
    "show the analysis"
   ]
  },
  {
   "cell_type": "markdown",
   "id": "21d43ba4-c81d-4c05-99b9-6d6610fad5ab",
   "metadata": {},
   "source": [
    "### Analysis 2"
   ]
  },
  {
   "cell_type": "markdown",
   "id": "1de9c5d0-9421-4390-bb07-4f8a57d37d28",
   "metadata": {},
   "source": [
    "talk about the analysis "
   ]
  },
  {
   "cell_type": "markdown",
   "id": "a1dd1a0b-47f1-4cec-a696-686455e2913a",
   "metadata": {},
   "source": [
    "show the analysis"
   ]
  },
  {
   "cell_type": "markdown",
   "id": "1b132b06-2726-4cc7-bc8b-ba3622a842b6",
   "metadata": {},
   "source": [
    "### Analysis 3"
   ]
  },
  {
   "cell_type": "markdown",
   "id": "33a867ad-cd55-4ada-b291-418b52a83676",
   "metadata": {},
   "source": [
    "talk about the analysis"
   ]
  },
  {
   "cell_type": "markdown",
   "id": "a4a526a4-a89e-4c45-b240-f5fd760efa12",
   "metadata": {},
   "source": [
    "show the analysis"
   ]
  },
  {
   "cell_type": "markdown",
   "id": "a038d7ad-42f1-41a5-83c0-89033834a8f4",
   "metadata": {},
   "source": [
    "## Conclusions"
   ]
  },
  {
   "cell_type": "markdown",
   "id": "a8c7a795-bfd1-493d-94e5-d617de0b4e76",
   "metadata": {},
   "source": [
    "This analysis leads to three recommendations for ...\n",
    "\n",
    "    1)conclusion number 1. then another sentence about the conclusion\n",
    "\n",
    "    2) conclusion number 2. then another sentence about the conclusion\n",
    "\n",
    "    3) conclusion number 3. then another sentence about the conclusion\n"
   ]
  },
  {
   "cell_type": "markdown",
   "id": "28b86f25-338a-43e4-9af8-4940d361324c",
   "metadata": {},
   "source": [
    "### Next Steps"
   ]
  },
  {
   "cell_type": "markdown",
   "id": "46205a51-5b12-48e1-b7e0-9385e874bb0c",
   "metadata": {},
   "source": [
    "Further Analysis could yield additional insights to further improve operations at blah blah blah\n",
    "\n",
    "    1) one possible next analysis. another sentence on this \n",
    "    2) a second next analysis. another sentence on this \n",
    "    3) a third next analysis. another sentence on this"
   ]
  }
 ],
 "metadata": {
  "kernelspec": {
   "display_name": "Python 3 (ipykernel)",
   "language": "python",
   "name": "python3"
  },
  "language_info": {
   "codemirror_mode": {
    "name": "ipython",
    "version": 3
   },
   "file_extension": ".py",
   "mimetype": "text/x-python",
   "name": "python",
   "nbconvert_exporter": "python",
   "pygments_lexer": "ipython3",
   "version": "3.8.19"
  }
 },
 "nbformat": 4,
 "nbformat_minor": 5
}
